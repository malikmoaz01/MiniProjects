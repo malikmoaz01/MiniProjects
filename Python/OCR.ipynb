{
 "cells": [
  {
   "cell_type": "code",
   "execution_count": 1,
   "id": "d9e08a77",
   "metadata": {},
   "outputs": [],
   "source": [
    "import numpy as np"
   ]
  },
  {
   "cell_type": "markdown",
   "id": "ed6e1a17",
   "metadata": {},
   "source": [
    "# Logistic Regression Module"
   ]
  },
  {
   "cell_type": "code",
   "execution_count": 2,
   "id": "15550ec3",
   "metadata": {},
   "outputs": [],
   "source": [
    "class LogisticRegression():\n",
    "    def __init__(self,eta = 0.01,max_iterations = 100000,desired_acccuracy = 100,tolerance = 1e-5):\n",
    "        self.learning_rate = eta                      #learning_rate\n",
    "        self.max_iterations = max_iterations          \n",
    "        self.iter = 0\n",
    "        self.cost_record = np.zeros(max_iterations)   #cost record for no significant change\n",
    "        self.desired_acccuracy = desired_acccuracy    #accuracy to be achived\n",
    "        self.tolerance = tolerance\n",
    "    def fit(self,X,y):\n",
    "        self.X = self.expand_column(X)                #add columns of 1 to mutiply with bias\n",
    "        self.actual_y = y\n",
    "        y = y.reshape(-1,1)                           #convert into 2d\n",
    "        self.y = y\n",
    "        weight_length = self.X.shape[1]\n",
    "        self.thetas = np.random.rand(weight_length,1) #initailize weights\n",
    "        self.learning()\n",
    "    def sigmoid(self,X):\n",
    "        z = np.dot(X,self.thetas)\n",
    "        sig_z = 1 / (1 + np.exp(-z))\n",
    "        return sig_z\n",
    "    def cost(self):\n",
    "        m = self.X.shape[0]\n",
    "        ho = self.sigmoid(self.X)\n",
    "        cost = (1/m) * (-np.dot(self.y.T, np.log(ho+1e-10)) - np.dot((1 - self.y).T, np.log(1 - ho+1e-10)))\n",
    "        return cost[0][0]\n",
    "    def gradient(self):\n",
    "        m = self.X.shape[0]\n",
    "        ho = self.sigmoid(self.X)\n",
    "        self.thetas -= (self.learning_rate/m) * np.dot(self.X.T, (ho-self.y))\n",
    "    def learning(self):\n",
    "        \"\"\"\n",
    "        Three conditions to stop\n",
    "        1) No.of iterations\n",
    "        2) Desired Accuracy achived\n",
    "        3) No significant change occur\n",
    "        \"\"\"\n",
    "        while self.iter < self.max_iterations:\n",
    "            accuracy = self._accuracy(self.X,self.actual_y)\n",
    "            cost = self.cost()\n",
    "            self.cost_record[self.iter] = cost\n",
    "            if accuracy >= self.desired_acccuracy:\n",
    "                print(\"Accuracy achieved\")\n",
    "                break\n",
    "            elif self.iter != 0 and np.abs(self.cost_record[self.iter] - self.cost_record[self.iter-1]) <= self.tolerance:\n",
    "                print(\"No significant changes occur\")\n",
    "                break\n",
    "            self.gradient()\n",
    "            self.iter += 1\n",
    "    def predict(self,X):\n",
    "        X = self.expand_column(X)\n",
    "        return self._predicted(X)\n",
    "    def _predicted(self,X):\n",
    "        z = self.sigmoid(X)\n",
    "        y = np.where(z>=0.5,1,0)\n",
    "        return y.flatten()\n",
    "    def accuracy(self,X,y):\n",
    "        X = self.expand_column(X)\n",
    "        return self._accuracy(X,y)\n",
    "        \n",
    "    def _accuracy(self,X,y):\n",
    "        y_pred = self._predicted(X)\n",
    "        accuracy = np.mean(y==y_pred)\n",
    "        return accuracy * 100\n",
    "        \n",
    "    def expand_column(self,X):\n",
    "        col = np.ones(X.shape[0])\n",
    "        col = col.reshape(-1,1)\n",
    "        X = np.hstack((col,X))\n",
    "        return X\n",
    "        \n",
    "    "
   ]
  },
  {
   "cell_type": "markdown",
   "id": "e3441765",
   "metadata": {},
   "source": [
    "# AND Gate"
   ]
  },
  {
   "cell_type": "code",
   "execution_count": 3,
   "id": "4b79c282",
   "metadata": {},
   "outputs": [
    {
     "data": {
      "text/plain": [
       "(array([[0, 0],\n",
       "        [0, 1],\n",
       "        [1, 0],\n",
       "        [1, 1]]),\n",
       " array([0, 0, 0, 1]))"
      ]
     },
     "execution_count": 3,
     "metadata": {},
     "output_type": "execute_result"
    }
   ],
   "source": [
    "X = np.array([\n",
    "    [0,0],\n",
    "    [0,1],\n",
    "    [1,0],\n",
    "    [1,1]\n",
    "])\n",
    "y = np.array([0,0,0,1])\n",
    "X,y"
   ]
  },
  {
   "cell_type": "code",
   "execution_count": 4,
   "id": "1c0b85dc",
   "metadata": {},
   "outputs": [
    {
     "name": "stdout",
     "output_type": "stream",
     "text": [
      "Accuracy achieved\n"
     ]
    }
   ],
   "source": [
    "obj = LogisticRegression()\n",
    "obj.fit(X,y)"
   ]
  },
  {
   "cell_type": "code",
   "execution_count": 5,
   "id": "1daac8e7",
   "metadata": {},
   "outputs": [],
   "source": [
    "pred = obj.predict(X)"
   ]
  },
  {
   "cell_type": "code",
   "execution_count": 6,
   "id": "d54203f6",
   "metadata": {},
   "outputs": [
    {
     "data": {
      "text/plain": [
       "array([0, 0, 0, 1])"
      ]
     },
     "execution_count": 6,
     "metadata": {},
     "output_type": "execute_result"
    }
   ],
   "source": [
    "pred"
   ]
  },
  {
   "cell_type": "code",
   "execution_count": 7,
   "id": "573bdaa5",
   "metadata": {},
   "outputs": [
    {
     "data": {
      "text/plain": [
       "array([[-0.59292436],\n",
       "       [ 0.59196515],\n",
       "       [ 0.57074797]])"
      ]
     },
     "execution_count": 7,
     "metadata": {},
     "output_type": "execute_result"
    }
   ],
   "source": [
    "weights = obj.thetas\n",
    "weights"
   ]
  },
  {
   "cell_type": "code",
   "execution_count": 8,
   "id": "1941ff2c",
   "metadata": {},
   "outputs": [
    {
     "name": "stdout",
     "output_type": "stream",
     "text": [
      "Accuarcy 100.0\n"
     ]
    }
   ],
   "source": [
    "print(\"Accuarcy\",obj.accuracy(X,y))"
   ]
  },
  {
   "cell_type": "markdown",
   "id": "b33a63e3",
   "metadata": {},
   "source": [
    "# OR Gate"
   ]
  },
  {
   "cell_type": "code",
   "execution_count": 9,
   "id": "b2a42b0b",
   "metadata": {},
   "outputs": [
    {
     "data": {
      "text/plain": [
       "(array([[0, 0],\n",
       "        [0, 1],\n",
       "        [1, 0],\n",
       "        [1, 1]]),\n",
       " array([0, 1, 1, 1]))"
      ]
     },
     "execution_count": 9,
     "metadata": {},
     "output_type": "execute_result"
    }
   ],
   "source": [
    "X = np.array([\n",
    "    [0,0],\n",
    "    [0,1],\n",
    "    [1,0],\n",
    "    [1,1]\n",
    "])\n",
    "y = np.array([0,1,1,1])\n",
    "X,y"
   ]
  },
  {
   "cell_type": "code",
   "execution_count": 10,
   "id": "08e0aa6a",
   "metadata": {},
   "outputs": [
    {
     "name": "stdout",
     "output_type": "stream",
     "text": [
      "Accuracy achieved\n"
     ]
    }
   ],
   "source": [
    "obj = LogisticRegression()\n",
    "obj.fit(X,y)"
   ]
  },
  {
   "cell_type": "code",
   "execution_count": 11,
   "id": "8cd9e826",
   "metadata": {},
   "outputs": [
    {
     "data": {
      "text/plain": [
       "array([0, 1, 1, 1])"
      ]
     },
     "execution_count": 11,
     "metadata": {},
     "output_type": "execute_result"
    }
   ],
   "source": [
    "pred = obj.predict(X)\n",
    "pred"
   ]
  },
  {
   "cell_type": "code",
   "execution_count": 12,
   "id": "b0cdbed8",
   "metadata": {},
   "outputs": [
    {
     "data": {
      "text/plain": [
       "array([[-7.57359991e-05],\n",
       "       [ 1.65568850e+00],\n",
       "       [ 1.65587534e+00]])"
      ]
     },
     "execution_count": 12,
     "metadata": {},
     "output_type": "execute_result"
    }
   ],
   "source": [
    "weights = obj.thetas\n",
    "weights"
   ]
  },
  {
   "cell_type": "code",
   "execution_count": 13,
   "id": "615e6993",
   "metadata": {},
   "outputs": [
    {
     "name": "stdout",
     "output_type": "stream",
     "text": [
      "Accuarcy 100.0\n"
     ]
    }
   ],
   "source": [
    "print(\"Accuarcy\",obj.accuracy(X,y))"
   ]
  },
  {
   "cell_type": "markdown",
   "id": "00efca98",
   "metadata": {},
   "source": [
    "## OCR"
   ]
  },
  {
   "cell_type": "code",
   "execution_count": 14,
   "id": "0b2000c6",
   "metadata": {},
   "outputs": [
    {
     "data": {
      "text/plain": [
       "((500, 256), (500,))"
      ]
     },
     "execution_count": 14,
     "metadata": {},
     "output_type": "execute_result"
    }
   ],
   "source": [
    "X_train = np.loadtxt('trainX.txt')\n",
    "y_train = np.loadtxt('trainY.txt')\n",
    "X_train.shape,y_train.shape\n"
   ]
  },
  {
   "cell_type": "code",
   "execution_count": 15,
   "id": "04864d7b",
   "metadata": {},
   "outputs": [
    {
     "data": {
      "text/plain": [
       "((100, 256), (100,))"
      ]
     },
     "execution_count": 15,
     "metadata": {},
     "output_type": "execute_result"
    }
   ],
   "source": [
    "X_test = np.loadtxt('testX.txt')\n",
    "y_test = np.loadtxt('testY.txt')\n",
    "X_test.shape,y_test.shape"
   ]
  },
  {
   "cell_type": "code",
   "execution_count": 16,
   "id": "bdb344a4",
   "metadata": {},
   "outputs": [],
   "source": [
    "y_train = np.where(y_train == 2,0,1)        #assign one class as 0 and other is 1 because i define a class for 0 and 1\n",
    "y_test = np.where(y_test == 2,0,1)   "
   ]
  },
  {
   "cell_type": "markdown",
   "id": "b03a5d57",
   "metadata": {},
   "source": [
    "## learning_rate = 0.1"
   ]
  },
  {
   "cell_type": "code",
   "execution_count": 17,
   "id": "e40aa837",
   "metadata": {},
   "outputs": [
    {
     "name": "stdout",
     "output_type": "stream",
     "text": [
      "Accuracy achieved\n"
     ]
    }
   ],
   "source": [
    "obj_1 = LogisticRegression(eta=0.1,desired_acccuracy=90)\n",
    "obj_1.fit(X_train,y_train)"
   ]
  },
  {
   "cell_type": "code",
   "execution_count": 18,
   "id": "59af2c38",
   "metadata": {},
   "outputs": [],
   "source": [
    "pre_training_data = obj_1.predict(X_train)"
   ]
  },
  {
   "cell_type": "code",
   "execution_count": 19,
   "id": "8b122e0f",
   "metadata": {},
   "outputs": [
    {
     "name": "stdout",
     "output_type": "stream",
     "text": [
      "Accuracy on training data :  90.0\n"
     ]
    }
   ],
   "source": [
    "print(\"Accuracy on training data : \",obj_1.accuracy(X_train,y_train))"
   ]
  },
  {
   "cell_type": "code",
   "execution_count": 20,
   "id": "7959d880",
   "metadata": {},
   "outputs": [],
   "source": [
    "pre_testing_data = obj_1.predict(X_test)"
   ]
  },
  {
   "cell_type": "code",
   "execution_count": 21,
   "id": "bdc4895f",
   "metadata": {},
   "outputs": [
    {
     "name": "stdout",
     "output_type": "stream",
     "text": [
      "Accuracy on training data :  98.0\n"
     ]
    }
   ],
   "source": [
    "print(\"Accuracy on training data : \",obj_1.accuracy(X_test,y_test))"
   ]
  },
  {
   "cell_type": "markdown",
   "id": "6424e2ef",
   "metadata": {},
   "source": [
    "## learning rate 0.01"
   ]
  },
  {
   "cell_type": "code",
   "execution_count": 22,
   "id": "31467c90",
   "metadata": {},
   "outputs": [
    {
     "name": "stdout",
     "output_type": "stream",
     "text": [
      "Accuracy achieved\n"
     ]
    }
   ],
   "source": [
    "obj_2 = LogisticRegression(eta=0.01,desired_acccuracy=90)\n",
    "obj_2.fit(X_train,y_train)"
   ]
  },
  {
   "cell_type": "code",
   "execution_count": 23,
   "id": "f9457eec",
   "metadata": {},
   "outputs": [],
   "source": [
    "pre_training_data = obj_2.predict(X_train)"
   ]
  },
  {
   "cell_type": "code",
   "execution_count": 24,
   "id": "cb8845e3",
   "metadata": {},
   "outputs": [
    {
     "name": "stdout",
     "output_type": "stream",
     "text": [
      "Accuracy on training data :  90.0\n"
     ]
    }
   ],
   "source": [
    "print(\"Accuracy on training data : \",obj_2.accuracy(X_train,y_train))"
   ]
  },
  {
   "cell_type": "code",
   "execution_count": 25,
   "id": "233ef85d",
   "metadata": {},
   "outputs": [],
   "source": [
    "pre_testing_data = obj_2.predict(X_test)"
   ]
  },
  {
   "cell_type": "code",
   "execution_count": 26,
   "id": "69ba62bc",
   "metadata": {},
   "outputs": [
    {
     "name": "stdout",
     "output_type": "stream",
     "text": [
      "Accuracy on training data :  99.0\n"
     ]
    }
   ],
   "source": [
    "print(\"Accuracy on training data : \",obj_2.accuracy(X_test,y_test))"
   ]
  },
  {
   "cell_type": "markdown",
   "id": "faf05e74",
   "metadata": {},
   "source": [
    "## learning rate 0.001"
   ]
  },
  {
   "cell_type": "code",
   "execution_count": 27,
   "id": "5360397d",
   "metadata": {},
   "outputs": [
    {
     "name": "stdout",
     "output_type": "stream",
     "text": [
      "Accuracy achieved\n"
     ]
    }
   ],
   "source": [
    "obj_3 = LogisticRegression(eta=0.001,desired_acccuracy=90)\n",
    "obj_3.fit(X_train,y_train)"
   ]
  },
  {
   "cell_type": "code",
   "execution_count": 28,
   "id": "9cb80d90",
   "metadata": {},
   "outputs": [],
   "source": [
    "pre_training_data = obj_3.predict(X_train)"
   ]
  },
  {
   "cell_type": "code",
   "execution_count": 29,
   "id": "1e525930",
   "metadata": {},
   "outputs": [
    {
     "name": "stdout",
     "output_type": "stream",
     "text": [
      "Accuracy on training data :  90.0\n"
     ]
    }
   ],
   "source": [
    "print(\"Accuracy on training data : \",obj_3.accuracy(X_train,y_train))"
   ]
  },
  {
   "cell_type": "code",
   "execution_count": 30,
   "id": "777960ea",
   "metadata": {},
   "outputs": [],
   "source": [
    "pre_testing_data = obj_3.predict(X_test)"
   ]
  },
  {
   "cell_type": "code",
   "execution_count": 31,
   "id": "ebfc2b84",
   "metadata": {},
   "outputs": [
    {
     "name": "stdout",
     "output_type": "stream",
     "text": [
      "Accuracy on training data :  99.0\n"
     ]
    }
   ],
   "source": [
    "print(\"Accuracy on training data : \",obj_3.accuracy(X_test,y_test))"
   ]
  },
  {
   "cell_type": "code",
   "execution_count": null,
   "id": "ceb492a7",
   "metadata": {},
   "outputs": [],
   "source": []
  }
 ],
 "metadata": {
  "kernelspec": {
   "display_name": "Python 3 (ipykernel)",
   "language": "python",
   "name": "python3"
  },
  "language_info": {
   "codemirror_mode": {
    "name": "ipython",
    "version": 3
   },
   "file_extension": ".py",
   "mimetype": "text/x-python",
   "name": "python",
   "nbconvert_exporter": "python",
   "pygments_lexer": "ipython3",
   "version": "3.12.1"
  }
 },
 "nbformat": 4,
 "nbformat_minor": 5
}
